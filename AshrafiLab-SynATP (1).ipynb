{
 "cells": [
  {
   "cell_type": "markdown",
   "metadata": {},
   "source": [
    "# Import Your Files"
   ]
  },
  {
   "cell_type": "code",
   "execution_count": null,
   "metadata": {},
   "outputs": [],
   "source": [
    "from astropy.io import fits\n",
    "import os\n",
    "import numpy as np\n",
    "import matplotlib.pyplot as plt\n",
    "\n",
    "# this is the directory containing fits files\n",
    "fits_dir = \"E:\\\\Box\\\\\"\n",
    "\n",
    "files = os.listdir(fits_dir)\n",
    "os.listdir(fits_dir)"
   ]
  },
  {
   "cell_type": "code",
   "execution_count": null,
   "metadata": {},
   "outputs": [],
   "source": [
    "os.chdir(fits_dir)\n",
    "\n",
    "flour_files = ['fluor.fits', 'fluor_1.fits', 'fluor_2.fits', 'fluor_3.fits', 'fluor_4.fits', 'fluor_5.fits',\n",
    " 'fluor_6.fits', 'fluor_7.fits', 'fluor_8.fits']\n",
    "\n",
    "lum_files = ['lum.fits', 'lum_1.fits', 'lum_2.fits', 'lum_3.fits', 'lum_4.fits', 'lum_5.fits', 'lum_6.fits',\n",
    " 'lum_7.fits', 'lum_8.fits']\n",
    "\n",
    "f_stack = []\n",
    "l_stack = []\n",
    "\n",
    "\n",
    "# this for loop reads flourescence and luminescence files and store them in seperate lists.\n",
    "for i in range(9):\n",
    "\n",
    "    img = fits.open(flour_files[i])\n",
    "    \n",
    "    # average last ten frames\n",
    "    img = np.mean(img[0].data[10:,:,:], axis=0)\n",
    "    f_stack.append(img)\n",
    "    \n",
    "    img = fits.open(lum_files[i])\n",
    "    l_stack.append(img[0].data[0,:,:])\n",
    "    "
   ]
  },
  {
   "cell_type": "code",
   "execution_count": null,
   "metadata": {},
   "outputs": [],
   "source": [
    "plt.figure(figsize=(15,15))\n",
    "\n",
    "for i in range(9):\n",
    "    plt.subplot(3,3,i+1)\n",
    "    plt.imshow(f_stack[i], cmap=\"magma\")\n",
    "    plt.colorbar()"
   ]
  },
  {
   "cell_type": "markdown",
   "metadata": {},
   "source": [
    "# Kmeans clustering of luminescence images for finding background"
   ]
  },
  {
   "cell_type": "code",
   "execution_count": null,
   "metadata": {},
   "outputs": [],
   "source": [
    "from skimage.measure import block_reduce\n",
    "from sklearn.cluster import KMeans\n",
    "\n",
    "def cluster_lum(img, n = 4):\n",
    "    \n",
    "    # downsample images into 512/n x 512/n images through using median for n x n squares\n",
    "    l_mean_down = block_reduce(img, (n,n), np.median)\n",
    "    \n",
    "    # cluster pixels into 2 clusters to find background\n",
    "    pixel_values = l_mean_down.reshape(-1,1)\n",
    "    kmeans = KMeans(n_clusters = 2, random_state = 42).fit(pixel_values)\n",
    "\n",
    "    clusters = kmeans.labels_\n",
    "    clusters = clusters.reshape((int(512/n),int(512/n)))\n",
    "    \n",
    "    bck = np.argmax(np.unique(clusters, return_counts=True)[1])\n",
    "    clusters = np.where(clusters == bck, 0, 1)\n",
    "    \n",
    "    return clusters, l_mean_down\n",
    "    "
   ]
  },
  {
   "cell_type": "markdown",
   "metadata": {},
   "source": [
    "# Localizing cell body by finding the n by n square with the highest luminescence value"
   ]
  },
  {
   "cell_type": "code",
   "execution_count": null,
   "metadata": {},
   "outputs": [],
   "source": [
    "# Change d to adjust the size of localizer\n",
    "\n",
    "def cell_body(img, d = 32, n = 4):\n",
    "\n",
    "    img = block_reduce(img, (n,n), np.median)\n",
    "\n",
    "    coordinates = []\n",
    "    intensities = []\n",
    "\n",
    "    for i in range(0, img.shape[0] - d):\n",
    "        for j in range(0, img.shape[1] - d):\n",
    "\n",
    "            intensity = np.mean(img[i : i + d, j : j + d])\n",
    "            intensities.append(intensity)\n",
    "            coordinates.append([i,j])\n",
    "\n",
    "\n",
    "    cc = coordinates[np.argmax(intensities)]\n",
    "\n",
    "    mask = np.zeros(img.shape)\n",
    "\n",
    "    mask[cc[0]:cc[0]+d, cc[1]:cc[1]+d] = 1\n",
    "    \n",
    "    return mask"
   ]
  },
  {
   "cell_type": "markdown",
   "metadata": {},
   "source": [
    "# Key Step: Visualize and Adjust Cell Body Masking If Needed"
   ]
  },
  {
   "cell_type": "code",
   "execution_count": null,
   "metadata": {},
   "outputs": [],
   "source": [
    "from IPython.display import clear_output\n",
    "\n",
    "# change d in this box to alter the cell body mask size \n",
    "mask, lum_down = cluster_lum(l_stack[2])\n",
    "cb_mask = cell_body(l_stack[2], d = 32)\n",
    "\n",
    "satisfied = \"N\"\n",
    "\n",
    "while satisfied != \"Y\":\n",
    "    plt.figure(figsize=(15,5))\n",
    "    plt.subplot(1,3,1)\n",
    "    plt.title(\"Downsampled Image\")\n",
    "    plt.imshow(lum_down)\n",
    "\n",
    "    plt.subplot(1,3,2)\n",
    "    plt.title(\"Background Mask\")\n",
    "    plt.imshow(mask)\n",
    "\n",
    "    plt.subplot(1,3,3)\n",
    "    plt.title(\"Cell Body Localization\")\n",
    "    plt.imshow(lum_down)\n",
    "    plt.imshow(cb_mask, alpha = 0.2, cmap = \"hot\")\n",
    "\n",
    "    plt.show()\n",
    "\n",
    "    satisfied = input(\"Are you satisfied with cell body mask Y/N: \")\n",
    "    if(satisfied != \"Y\"):\n",
    "        y = input(\"please type y coordinate: \")\n",
    "        y = int(y)\n",
    "        x = input(\"please type x coordinate: \")\n",
    "        x = int(x)\n",
    "        size = input(\"please type size of the box: \")\n",
    "        size = int(size)\n",
    "        clear_output()\n",
    "        \n",
    "        cb_mask = np.zeros(lum_down.shape)\n",
    "        cb_mask[y:y+size, x:x+size] = 1\n",
    "\n",
    "# change d in the next box to alter the cell body mask size in the analysis, after reviewing the image in this box"
   ]
  },
  {
   "cell_type": "markdown",
   "metadata": {},
   "source": [
    "\n",
    "# Define Gain Level ( for FL 60, adjusted = True)"
   ]
  },
  {
   "cell_type": "code",
   "execution_count": null,
   "metadata": {},
   "outputs": [],
   "source": [
    "# With this function linear changes in the imaging due to hardware alteration can be defined. \n",
    "# for the images obtained with Flourescent Gain of 60, Adjusted = True\n",
    "\n",
    "lf_list = []\n",
    "lum_list = []\n",
    "fluor_list = []\n",
    "n = 4\n",
    "#d = 10\n",
    "adjusted = True\n",
    "\n",
    "for i in range(9):\n",
    "    #cb_mask = cell_body(l_stack[i], d)\n",
    "    c, l = cluster_lum(l_stack[i])\n",
    "    bck = np.mean(l[c == 0])\n",
    "    l = l - bck\n",
    "    l = np.where(l > 0, l , 0)\n",
    "    \n",
    "    \n",
    "    f = block_reduce(f_stack[i], (n,n), np.median)\n",
    "    bck = np.mean(f[c == 0])\n",
    "    # adjusted = True : F for Flourescent Gain 60 of Andor Software\n",
    "    if adjusted == True:\n",
    "        f = (f-bck)/2.9201091\n",
    "    else:\n",
    "        f = f - bck\n",
    "    f = np.where(f > 0 , f, 0)\n",
    "    \n",
    "    c = np.where(cb_mask == 1, 0, c)\n",
    "    \n",
    "    r = np.mean(l[c == 1])/np.mean(f[c == 1])\n",
    "\n",
    "    print(r, np.mean(l[c == 1]), np.mean(f[c == 1]))\n",
    "    lf_list.append(r)\n",
    "    lum_list.append(np.mean(l[c == 1]))\n",
    "    fluor_list.append(np.mean(f[c == 1]))"
   ]
  },
  {
   "cell_type": "markdown",
   "metadata": {},
   "source": [
    "# Results"
   ]
  },
  {
   "cell_type": "code",
   "execution_count": null,
   "metadata": {},
   "outputs": [],
   "source": [
    "#L/F Total Synaptic ATP levels\n",
    "lf_list"
   ]
  },
  {
   "cell_type": "code",
   "execution_count": null,
   "metadata": {},
   "outputs": [],
   "source": [
    "plt.plot(lf_list)\n",
    "\n",
    "plt.ylim(0,np.max(lf_list)+0.5)"
   ]
  },
  {
   "cell_type": "markdown",
   "metadata": {},
   "source": [
    "# Save Output File to an MS Excel File "
   ]
  },
  {
   "cell_type": "code",
   "execution_count": null,
   "metadata": {},
   "outputs": [],
   "source": [
    "import pandas as pd \n",
    "\n",
    "output_df = pd.DataFrame([lf_list, lum_list, fluor_list]).transpose()\n",
    "output_df.columns = [\"L/F\", \"L\", \"F\"]\n",
    "\n",
    "output_df\n",
    "\n",
    "# file's name will be the same as its folder name\n",
    "file_name = fits_dir.split(\"\\\\\")[-1] + \".xlsx\"\n",
    "\n",
    "# Files will be saved in this location\n",
    "destination_folder = \"E:\\\\Box\\\\CellBio-AshrafiLab\\\\Data\\\\Arsalan\\\\SynATP Exp\\\\Excel files\"\n",
    "\n",
    "file_location = destination_folder + \"\\\\\" + file_name\n",
    "\n",
    "output_df.to_excel(file_location)"
   ]
  }
 ],
 "metadata": {
  "kernelspec": {
   "display_name": "Python 3",
   "language": "python",
   "name": "python3"
  },
  "language_info": {
   "codemirror_mode": {
    "name": "ipython",
    "version": 3
   },
   "file_extension": ".py",
   "mimetype": "text/x-python",
   "name": "python",
   "nbconvert_exporter": "python",
   "pygments_lexer": "ipython3",
   "version": "3.8.5"
  },
  "widgets": {
   "application/vnd.jupyter.widget-state+json": {
    "state": {},
    "version_major": 2,
    "version_minor": 0
   }
  }
 },
 "nbformat": 4,
 "nbformat_minor": 4
}
